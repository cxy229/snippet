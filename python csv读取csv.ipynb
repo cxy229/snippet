{
 "cells": [
  {
   "cell_type": "code",
   "execution_count": 1,
   "metadata": {},
   "outputs": [
    {
     "name": "stdout",
     "output_type": "stream",
     "text": [
      "/home/czx229\n"
     ]
    }
   ],
   "source": [
    "import os\n",
    "home_folder = os.path.expanduser(\"~\")\n",
    "print(home_folder)"
   ]
  },
  {
   "cell_type": "code",
   "execution_count": 2,
   "metadata": {},
   "outputs": [
    {
     "name": "stdout",
     "output_type": "stream",
     "text": [
      "/home/czx229/jupyter/Data/Ionosphere/ionosphere.data\n"
     ]
    }
   ],
   "source": [
    "# Change this to the location of your dataset\n",
    "data_folder = os.path.join(home_folder, \"jupyter/Data\", \"Ionosphere\")\n",
    "data_filename = os.path.join(data_folder, \"ionosphere.data\")\n",
    "print(data_filename)"
   ]
  },
  {
   "cell_type": "code",
   "execution_count": 3,
   "metadata": {
    "collapsed": true
   },
   "outputs": [],
   "source": [
    "import csv\n",
    "import numpy as np\n",
    "\n",
    "# Size taken from the dataset and is known\n",
    "X = np.zeros((351, 34), dtype='float')\n",
    "y = np.zeros((351,), dtype='bool')\n",
    "\n",
    "with open(data_filename, 'r') as input_file:\n",
    "    reader = csv.reader(input_file)\n",
    "    for i, row in enumerate(reader):\n",
    "        # Get the data, converting each item to a float\n",
    "        data = [float(datum) for datum in row[:-1]]\n",
    "        # Set the appropriate row in our dataset\n",
    "        X[i] = data\n",
    "        # 1 if the class is 'g', 0 otherwise\n",
    "        y[i] = row[-1] == 'g'"
   ]
  },
  {
   "cell_type": "code",
   "execution_count": 10,
   "metadata": {},
   "outputs": [
    {
     "name": "stdout",
     "output_type": "stream",
     "text": [
      "[[ 1.       0.       0.99539 -0.05889  0.85243  0.02306  0.83398 -0.37708\n",
      "   1.       0.0376   0.85243 -0.17755  0.59755 -0.44945  0.60536 -0.38223\n",
      "   0.84356 -0.38542  0.58212 -0.32192  0.56971 -0.29674  0.36946 -0.47357\n",
      "   0.56811 -0.51171  0.41078 -0.46168  0.21266 -0.3409   0.42267 -0.54487\n",
      "   0.18641 -0.453  ]\n",
      " [ 1.       0.       1.      -0.18829  0.93035 -0.36156 -0.10868 -0.93597\n",
      "   1.      -0.04549  0.50874 -0.67743  0.34432 -0.69707 -0.51685 -0.97515\n",
      "   0.05499 -0.62237  0.33109 -1.      -0.13151 -0.453   -0.18056 -0.35734\n",
      "  -0.20332 -0.26569 -0.20468 -0.18401 -0.1904  -0.11593 -0.16626 -0.06288\n",
      "  -0.13738 -0.02447]]\n",
      "[ True False]\n"
     ]
    }
   ],
   "source": [
    "print(X[:2])\n",
    "print(y[:2])"
   ]
  },
  {
   "cell_type": "code",
   "execution_count": null,
   "metadata": {
    "collapsed": true
   },
   "outputs": [],
   "source": []
  }
 ],
 "metadata": {
  "kernelspec": {
   "display_name": "Python 3",
   "language": "python",
   "name": "python3"
  },
  "language_info": {
   "codemirror_mode": {
    "name": "ipython",
    "version": 3
   },
   "file_extension": ".py",
   "mimetype": "text/x-python",
   "name": "python",
   "nbconvert_exporter": "python",
   "pygments_lexer": "ipython3",
   "version": "3.6.1"
  }
 },
 "nbformat": 4,
 "nbformat_minor": 2
}
