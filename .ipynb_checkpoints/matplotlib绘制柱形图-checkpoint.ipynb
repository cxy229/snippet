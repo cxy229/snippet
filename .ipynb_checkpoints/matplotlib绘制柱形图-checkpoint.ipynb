{
 "cells": [
  {
   "cell_type": "code",
   "execution_count": 19,
   "metadata": {
    "collapsed": true
   },
   "outputs": [],
   "source": [
    "import tensorflow as tf\n",
    "import matplotlib.pyplot as plt\n",
    "import numpy as np"
   ]
  },
  {
   "cell_type": "code",
   "execution_count": 20,
   "metadata": {
    "collapsed": true
   },
   "outputs": [],
   "source": [
    "def hist_dist(title, distribution_tensor, hist_range=(-4, 4)):\n",
    "    \"\"\"\n",
    "    Display histogram of a TF distribution\n",
    "    \"\"\"\n",
    "    with tf.Session() as sess:\n",
    "        values = sess.run(distribution_tensor)\n",
    "\n",
    "    plt.title(title)\n",
    "    plt.hist(values, np.linspace(*hist_range, num=len(values)/2))\n",
    "#     plt.hist(values, [-4,0,1,2,3,4])\n",
    "    plt.show()"
   ]
  },
  {
   "cell_type": "markdown",
   "metadata": {},
   "source": [
    "### numpy.linspace的用法：\n",
    "`numpy.linspace(start, stop, num=50, endpoint=True, retstep=False, dtype=None)`\n",
    "e.g. `np.linspace(-10,10,21)`会把区间[-10,10]平均分割，生成长度为21的数组\n",
    "\n",
    "### plt.hist的用法\n",
    "`hist(x, bins=None)`\n",
    "生成柱形图，bins表示划分的粒度，如果是数值，会有bins+1个柱体，如果是序列，表示给了每个柱体的边。"
   ]
  },
  {
   "cell_type": "code",
   "execution_count": 24,
   "metadata": {},
   "outputs": [
    {
     "name": "stderr",
     "output_type": "stream",
     "text": [
      "/home/czx229/anaconda3/lib/python3.6/site-packages/ipykernel_launcher.py:9: DeprecationWarning: object of type <class 'float'> cannot be safely interpreted as an integer.\n",
      "  if __name__ == '__main__':\n"
     ]
    },
    {
     "data": {
      "image/png": "[encoded data removed]",
      "text/plain": [
       "<matplotlib.figure.Figure at 0x7fe0bdf2efd0>"
      ]
     },
     "metadata": {},
     "output_type": "display_data"
    }
   ],
   "source": [
    "hist_dist('Random Normal (mean=0.0, stddev=1.0)', tf.random_normal([1000], stddev=0.1), hist_range=(-0.4,0.4))"
   ]
  },
  {
   "cell_type": "code",
   "execution_count": 16,
   "metadata": {},
   "outputs": [
    {
     "data": {
      "text/plain": [
       "array([-10.,  -9.,  -8.,  -7.,  -6.,  -5.,  -4.,  -3.,  -2.,  -1.,   0.,\n",
       "         1.,   2.,   3.,   4.,   5.,   6.,   7.,   8.,   9.,  10.])"
      ]
     },
     "execution_count": 16,
     "metadata": {},
     "output_type": "execute_result"
    }
   ],
   "source": [
    "np.linspace(-10,10,21)"
   ]
  },
  {
   "cell_type": "code",
   "execution_count": null,
   "metadata": {
    "collapsed": true
   },
   "outputs": [],
   "source": []
  }
 ],
 "metadata": {
  "kernelspec": {
   "display_name": "Python 3",
   "language": "python",
   "name": "python3"
  },
  "language_info": {
   "codemirror_mode": {
    "name": "ipython",
    "version": 3
   },
   "file_extension": ".py",
   "mimetype": "text/x-python",
   "name": "python",
   "nbconvert_exporter": "python",
   "pygments_lexer": "ipython3",
   "version": "3.6.1"
  }
 },
 "nbformat": 4,
 "nbformat_minor": 2
}
