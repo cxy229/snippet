{
 "cells": [
  {
   "cell_type": "code",
   "execution_count": 1,
   "metadata": {
    "collapsed": true
   },
   "outputs": [],
   "source": [
    "import tensorflow as tf"
   ]
  },
  {
   "cell_type": "code",
   "execution_count": 3,
   "metadata": {
    "collapsed": true
   },
   "outputs": [],
   "source": [
    "from tensorflow.examples.tutorials.mnist import input_data\n",
    "import numpy as np"
   ]
  },
  {
   "cell_type": "code",
   "execution_count": 5,
   "metadata": {},
   "outputs": [
    {
     "name": "stdout",
     "output_type": "stream",
     "text": [
      "Extracting MNIST_data/train-images-idx3-ubyte.gz\n",
      "Extracting MNIST_data/train-labels-idx1-ubyte.gz\n",
      "Extracting MNIST_data/t10k-images-idx3-ubyte.gz\n",
      "Extracting MNIST_data/t10k-labels-idx1-ubyte.gz\n"
     ]
    }
   ],
   "source": [
    "mnist = input_data.read_data_sets('MNIST_data', one_hot=True)"
   ]
  },
  {
   "cell_type": "code",
   "execution_count": 27,
   "metadata": {
    "collapsed": true
   },
   "outputs": [],
   "source": [
    "train_features = mnist.train.images\n",
    "valid_features = mnist.validation.images\n",
    "test_features = mnist.test.images\n",
    "\n",
    "train_labels = mnist.train.labels.astype(np.float32)\n",
    "valid_labels = mnist.validation.labels.astype(np.float32)\n",
    "test_labels = mnist.test.labels.astype(np.float32)"
   ]
  },
  {
   "cell_type": "code",
   "execution_count": 28,
   "metadata": {
    "collapsed": true
   },
   "outputs": [],
   "source": [
    "n_input = 784\n",
    "n_classes = 10\n"
   ]
  },
  {
   "cell_type": "code",
   "execution_count": 29,
   "metadata": {
    "collapsed": true
   },
   "outputs": [],
   "source": [
    "features = tf.placeholder(dtype=tf.float32, shape=[None, n_input])\n",
    "labels = tf.placeholder(dtype=tf.float32, shape=[None, n_classes])"
   ]
  },
  {
   "cell_type": "code",
   "execution_count": 30,
   "metadata": {},
   "outputs": [],
   "source": [
    "weights = tf.Variable(tf.random_normal(shape=[n_input, n_classes]))\n",
    "bias = tf.Variable(tf.random_normal(shape=[n_classes]))"
   ]
  },
  {
   "cell_type": "code",
   "execution_count": 31,
   "metadata": {
    "collapsed": true
   },
   "outputs": [],
   "source": [
    "logits = tf.add(tf.matmul(features, weights), bias)"
   ]
  },
  {
   "cell_type": "code",
   "execution_count": 32,
   "metadata": {},
   "outputs": [],
   "source": [
    "# Define loss and optimizer\n",
    "cost = tf.reduce_mean(tf.nn.softmax_cross_entropy_with_logits(logits=logits, labels = labels))\n",
    "optimizer = tf.train.GradientDescentOptimizer(learning_rate=learning_rate).minimize(cost)"
   ]
  },
  {
   "cell_type": "code",
   "execution_count": 33,
   "metadata": {
    "collapsed": true
   },
   "outputs": [],
   "source": [
    "# Calculate accuracy\n",
    "correct_prediction = tf.equal(tf.argmax(logits,1), tf.argmax(labels,1))\n",
    "accuracy = tf.reduce_mean(tf.cast(correct_prediction, tf.float32))"
   ]
  },
  {
   "cell_type": "code",
   "execution_count": 34,
   "metadata": {
    "collapsed": true
   },
   "outputs": [],
   "source": [
    "def batches(batch_size, features, labels):\n",
    "    \"\"\"\n",
    "    Create batches of features and labels\n",
    "    :param batch_size: The batch size\n",
    "    :param features: List of features\n",
    "    :param labels: List of labels\n",
    "    :return: Batches of (Features, Labels)\n",
    "    \"\"\"\n",
    "    assert len(features) == len(labels)\n",
    "    # TODO: Implement batching\n",
    "    output_batches = []\n",
    "    for start_i in range(0, len(features), batch_size):\n",
    "        end_i = start_i+batch_size\n",
    "        batch = [features[start_i:end_i], labels[start_i:end_i]]\n",
    "        output_batches.append(batch)\n",
    "    return output_batches"
   ]
  },
  {
   "cell_type": "code",
   "execution_count": 35,
   "metadata": {
    "collapsed": true
   },
   "outputs": [],
   "source": [
    "def print_epoch_stats(epoch_i, sess, last_features, last_labels):\n",
    "    \"\"\"\n",
    "    Print cost and validation accuracy of an epoch\n",
    "    \"\"\"\n",
    "    current_cost = sess.run(cost, feed_dict={features: last_features, labels: last_labels})\n",
    "    valid_accuracy = sess.run(accuracy, feed_dict={features: valid_features, labels: valid_labels})\n",
    "    \n",
    "    print(\"Epoch: {:<4} - Cost: {:<8.3} Valid accuracy: {:<8.3}\".format(epoch_i, current_cost, valid_accuracy))"
   ]
  },
  {
   "cell_type": "code",
   "execution_count": 40,
   "metadata": {
    "scrolled": false
   },
   "outputs": [
    {
     "name": "stdout",
     "output_type": "stream",
     "text": [
      "Epoch: 0    - Cost: 10.5     Valid accuracy: 0.154   \n",
      "Epoch: 1    - Cost: 9.94     Valid accuracy: 0.16    \n",
      "Epoch: 2    - Cost: 9.34     Valid accuracy: 0.166   \n",
      "Epoch: 3    - Cost: 8.76     Valid accuracy: 0.176   \n",
      "Epoch: 4    - Cost: 8.23     Valid accuracy: 0.191   \n",
      "Epoch: 5    - Cost: 7.78     Valid accuracy: 0.218   \n",
      "Epoch: 6    - Cost: 7.41     Valid accuracy: 0.241   \n",
      "Epoch: 7    - Cost: 7.1      Valid accuracy: 0.261   \n",
      "Epoch: 8    - Cost: 6.82     Valid accuracy: 0.285   \n",
      "Epoch: 9    - Cost: 6.57     Valid accuracy: 0.305   \n",
      "Epoch: 10   - Cost: 6.35     Valid accuracy: 0.32    \n",
      "Epoch: 11   - Cost: 6.13     Valid accuracy: 0.334   \n",
      "Epoch: 12   - Cost: 5.93     Valid accuracy: 0.351   \n",
      "Epoch: 13   - Cost: 5.74     Valid accuracy: 0.362   \n",
      "Epoch: 14   - Cost: 5.56     Valid accuracy: 0.376   \n",
      "Epoch: 15   - Cost: 5.38     Valid accuracy: 0.387   \n",
      "Epoch: 16   - Cost: 5.22     Valid accuracy: 0.4     \n",
      "Epoch: 17   - Cost: 5.06     Valid accuracy: 0.41    \n",
      "Epoch: 18   - Cost: 4.91     Valid accuracy: 0.425   \n",
      "Epoch: 19   - Cost: 4.77     Valid accuracy: 0.436   \n",
      "Epoch: 20   - Cost: 4.64     Valid accuracy: 0.446   \n",
      "Epoch: 21   - Cost: 4.51     Valid accuracy: 0.455   \n",
      "Epoch: 22   - Cost: 4.39     Valid accuracy: 0.465   \n",
      "Epoch: 23   - Cost: 4.28     Valid accuracy: 0.475   \n",
      "Epoch: 24   - Cost: 4.17     Valid accuracy: 0.481   \n",
      "Epoch: 25   - Cost: 4.07     Valid accuracy: 0.49    \n",
      "Epoch: 26   - Cost: 3.98     Valid accuracy: 0.497   \n",
      "Epoch: 27   - Cost: 3.89     Valid accuracy: 0.505   \n",
      "Epoch: 28   - Cost: 3.8      Valid accuracy: 0.516   \n",
      "Epoch: 29   - Cost: 3.72     Valid accuracy: 0.523   \n",
      "Epoch: 30   - Cost: 3.65     Valid accuracy: 0.529   \n",
      "Epoch: 31   - Cost: 3.57     Valid accuracy: 0.534   \n",
      "Epoch: 32   - Cost: 3.51     Valid accuracy: 0.538   \n",
      "Epoch: 33   - Cost: 3.44     Valid accuracy: 0.542   \n",
      "Epoch: 34   - Cost: 3.38     Valid accuracy: 0.547   \n",
      "Epoch: 35   - Cost: 3.32     Valid accuracy: 0.552   \n",
      "Epoch: 36   - Cost: 3.26     Valid accuracy: 0.557   \n",
      "Epoch: 37   - Cost: 3.21     Valid accuracy: 0.562   \n",
      "Epoch: 38   - Cost: 3.16     Valid accuracy: 0.568   \n",
      "Epoch: 39   - Cost: 3.11     Valid accuracy: 0.573   \n",
      "Epoch: 40   - Cost: 3.06     Valid accuracy: 0.578   \n",
      "Epoch: 41   - Cost: 3.02     Valid accuracy: 0.58    \n",
      "Epoch: 42   - Cost: 2.97     Valid accuracy: 0.584   \n",
      "Epoch: 43   - Cost: 2.93     Valid accuracy: 0.587   \n",
      "Epoch: 44   - Cost: 2.89     Valid accuracy: 0.592   \n",
      "Epoch: 45   - Cost: 2.85     Valid accuracy: 0.596   \n",
      "Epoch: 46   - Cost: 2.82     Valid accuracy: 0.6     \n",
      "Epoch: 47   - Cost: 2.78     Valid accuracy: 0.604   \n",
      "Epoch: 48   - Cost: 2.75     Valid accuracy: 0.609   \n",
      "Epoch: 49   - Cost: 2.71     Valid accuracy: 0.614   \n",
      "Epoch: 50   - Cost: 2.68     Valid accuracy: 0.618   \n",
      "Epoch: 51   - Cost: 2.65     Valid accuracy: 0.622   \n",
      "Epoch: 52   - Cost: 2.62     Valid accuracy: 0.624   \n",
      "Epoch: 53   - Cost: 2.59     Valid accuracy: 0.627   \n",
      "Epoch: 54   - Cost: 2.56     Valid accuracy: 0.631   \n",
      "Epoch: 55   - Cost: 2.53     Valid accuracy: 0.634   \n",
      "Epoch: 56   - Cost: 2.51     Valid accuracy: 0.636   \n",
      "Epoch: 57   - Cost: 2.48     Valid accuracy: 0.639   \n",
      "Epoch: 58   - Cost: 2.46     Valid accuracy: 0.641   \n",
      "Epoch: 59   - Cost: 2.43     Valid accuracy: 0.644   \n",
      "Epoch: 60   - Cost: 2.41     Valid accuracy: 0.648   \n",
      "Epoch: 61   - Cost: 2.38     Valid accuracy: 0.651   \n",
      "Epoch: 62   - Cost: 2.36     Valid accuracy: 0.653   \n",
      "Epoch: 63   - Cost: 2.34     Valid accuracy: 0.655   \n",
      "Epoch: 64   - Cost: 2.32     Valid accuracy: 0.658   \n",
      "Epoch: 65   - Cost: 2.29     Valid accuracy: 0.66    \n",
      "Epoch: 66   - Cost: 2.27     Valid accuracy: 0.664   \n",
      "Epoch: 67   - Cost: 2.25     Valid accuracy: 0.666   \n",
      "Epoch: 68   - Cost: 2.23     Valid accuracy: 0.668   \n",
      "Epoch: 69   - Cost: 2.21     Valid accuracy: 0.669   \n",
      "Epoch: 70   - Cost: 2.19     Valid accuracy: 0.672   \n",
      "Epoch: 71   - Cost: 2.17     Valid accuracy: 0.674   \n",
      "Epoch: 72   - Cost: 2.16     Valid accuracy: 0.677   \n",
      "Epoch: 73   - Cost: 2.14     Valid accuracy: 0.678   \n",
      "Epoch: 74   - Cost: 2.12     Valid accuracy: 0.681   \n",
      "Epoch: 75   - Cost: 2.1      Valid accuracy: 0.683   \n",
      "Epoch: 76   - Cost: 2.09     Valid accuracy: 0.686   \n",
      "Epoch: 77   - Cost: 2.07     Valid accuracy: 0.688   \n",
      "Epoch: 78   - Cost: 2.05     Valid accuracy: 0.691   \n",
      "Epoch: 79   - Cost: 2.04     Valid accuracy: 0.694   \n",
      "Epoch: 80   - Cost: 2.02     Valid accuracy: 0.695   \n",
      "Epoch: 81   - Cost: 2.01     Valid accuracy: 0.697   \n",
      "Epoch: 82   - Cost: 1.99     Valid accuracy: 0.699   \n",
      "Epoch: 83   - Cost: 1.98     Valid accuracy: 0.701   \n",
      "Epoch: 84   - Cost: 1.96     Valid accuracy: 0.702   \n",
      "Epoch: 85   - Cost: 1.95     Valid accuracy: 0.705   \n",
      "Epoch: 86   - Cost: 1.93     Valid accuracy: 0.706   \n",
      "Epoch: 87   - Cost: 1.92     Valid accuracy: 0.708   \n",
      "Epoch: 88   - Cost: 1.91     Valid accuracy: 0.709   \n",
      "Epoch: 89   - Cost: 1.89     Valid accuracy: 0.711   \n",
      "Epoch: 90   - Cost: 1.88     Valid accuracy: 0.712   \n",
      "Epoch: 91   - Cost: 1.87     Valid accuracy: 0.713   \n",
      "Epoch: 92   - Cost: 1.86     Valid accuracy: 0.715   \n",
      "Epoch: 93   - Cost: 1.84     Valid accuracy: 0.716   \n",
      "Epoch: 94   - Cost: 1.83     Valid accuracy: 0.716   \n",
      "Epoch: 95   - Cost: 1.82     Valid accuracy: 0.718   \n",
      "Epoch: 96   - Cost: 1.81     Valid accuracy: 0.72    \n",
      "Epoch: 97   - Cost: 1.8      Valid accuracy: 0.722   \n",
      "Epoch: 98   - Cost: 1.78     Valid accuracy: 0.722   \n",
      "Epoch: 99   - Cost: 1.77     Valid accuracy: 0.723   \n",
      "Epoch: 100  - Cost: 1.76     Valid accuracy: 0.725   \n",
      "Epoch: 101  - Cost: 1.75     Valid accuracy: 0.726   \n",
      "Epoch: 102  - Cost: 1.74     Valid accuracy: 0.727   \n",
      "Epoch: 103  - Cost: 1.73     Valid accuracy: 0.727   \n",
      "Epoch: 104  - Cost: 1.72     Valid accuracy: 0.729   \n",
      "Epoch: 105  - Cost: 1.71     Valid accuracy: 0.73    \n",
      "Epoch: 106  - Cost: 1.7      Valid accuracy: 0.732   \n",
      "Epoch: 107  - Cost: 1.69     Valid accuracy: 0.733   \n",
      "Epoch: 108  - Cost: 1.68     Valid accuracy: 0.734   \n",
      "Epoch: 109  - Cost: 1.67     Valid accuracy: 0.736   \n",
      "Epoch: 110  - Cost: 1.66     Valid accuracy: 0.738   \n",
      "Epoch: 111  - Cost: 1.66     Valid accuracy: 0.739   \n",
      "Epoch: 112  - Cost: 1.65     Valid accuracy: 0.74    \n",
      "Epoch: 113  - Cost: 1.64     Valid accuracy: 0.741   \n",
      "Epoch: 114  - Cost: 1.63     Valid accuracy: 0.742   \n",
      "Epoch: 115  - Cost: 1.62     Valid accuracy: 0.743   \n",
      "Epoch: 116  - Cost: 1.61     Valid accuracy: 0.743   \n",
      "Epoch: 117  - Cost: 1.6      Valid accuracy: 0.744   \n",
      "Epoch: 118  - Cost: 1.6      Valid accuracy: 0.746   \n",
      "Epoch: 119  - Cost: 1.59     Valid accuracy: 0.746   \n",
      "Epoch: 120  - Cost: 1.58     Valid accuracy: 0.747   \n",
      "Epoch: 121  - Cost: 1.57     Valid accuracy: 0.748   \n",
      "Epoch: 122  - Cost: 1.57     Valid accuracy: 0.749   \n",
      "Epoch: 123  - Cost: 1.56     Valid accuracy: 0.75    \n",
      "Epoch: 124  - Cost: 1.55     Valid accuracy: 0.751   \n",
      "Epoch: 125  - Cost: 1.54     Valid accuracy: 0.752   \n",
      "Epoch: 126  - Cost: 1.54     Valid accuracy: 0.753   \n",
      "Epoch: 127  - Cost: 1.53     Valid accuracy: 0.755   \n",
      "Epoch: 128  - Cost: 1.52     Valid accuracy: 0.755   \n",
      "Epoch: 129  - Cost: 1.51     Valid accuracy: 0.756   \n",
      "Epoch: 130  - Cost: 1.51     Valid accuracy: 0.757   \n",
      "Epoch: 131  - Cost: 1.5      Valid accuracy: 0.757   \n",
      "Epoch: 132  - Cost: 1.5      Valid accuracy: 0.758   \n",
      "Epoch: 133  - Cost: 1.49     Valid accuracy: 0.76    \n",
      "Epoch: 134  - Cost: 1.48     Valid accuracy: 0.76    \n",
      "Epoch: 135  - Cost: 1.48     Valid accuracy: 0.761   \n",
      "Epoch: 136  - Cost: 1.47     Valid accuracy: 0.762   \n",
      "Epoch: 137  - Cost: 1.46     Valid accuracy: 0.762   \n",
      "Epoch: 138  - Cost: 1.46     Valid accuracy: 0.763   \n",
      "Epoch: 139  - Cost: 1.45     Valid accuracy: 0.763   \n",
      "Epoch: 140  - Cost: 1.45     Valid accuracy: 0.763   \n",
      "Epoch: 141  - Cost: 1.44     Valid accuracy: 0.764   \n",
      "Epoch: 142  - Cost: 1.43     Valid accuracy: 0.765   \n",
      "Epoch: 143  - Cost: 1.43     Valid accuracy: 0.765   \n",
      "Epoch: 144  - Cost: 1.42     Valid accuracy: 0.766   \n",
      "Epoch: 145  - Cost: 1.42     Valid accuracy: 0.767   \n",
      "Epoch: 146  - Cost: 1.41     Valid accuracy: 0.767   \n",
      "Epoch: 147  - Cost: 1.41     Valid accuracy: 0.768   \n",
      "Epoch: 148  - Cost: 1.4      Valid accuracy: 0.768   \n",
      "Epoch: 149  - Cost: 1.4      Valid accuracy: 0.769   \n",
      "Epoch: 150  - Cost: 1.39     Valid accuracy: 0.769   \n",
      "Epoch: 151  - Cost: 1.39     Valid accuracy: 0.769   \n"
     ]
    },
    {
     "name": "stdout",
     "output_type": "stream",
     "text": [
      "Epoch: 152  - Cost: 1.38     Valid accuracy: 0.77    \n",
      "Epoch: 153  - Cost: 1.38     Valid accuracy: 0.77    \n",
      "Epoch: 154  - Cost: 1.37     Valid accuracy: 0.77    \n",
      "Epoch: 155  - Cost: 1.37     Valid accuracy: 0.771   \n",
      "Epoch: 156  - Cost: 1.36     Valid accuracy: 0.771   \n",
      "Epoch: 157  - Cost: 1.36     Valid accuracy: 0.772   \n",
      "Epoch: 158  - Cost: 1.35     Valid accuracy: 0.772   \n",
      "Epoch: 159  - Cost: 1.35     Valid accuracy: 0.774   \n",
      "Epoch: 160  - Cost: 1.34     Valid accuracy: 0.774   \n",
      "Epoch: 161  - Cost: 1.34     Valid accuracy: 0.775   \n",
      "Epoch: 162  - Cost: 1.33     Valid accuracy: 0.775   \n",
      "Epoch: 163  - Cost: 1.33     Valid accuracy: 0.776   \n",
      "Epoch: 164  - Cost: 1.33     Valid accuracy: 0.776   \n",
      "Epoch: 165  - Cost: 1.32     Valid accuracy: 0.777   \n",
      "Epoch: 166  - Cost: 1.32     Valid accuracy: 0.778   \n",
      "Epoch: 167  - Cost: 1.31     Valid accuracy: 0.778   \n",
      "Epoch: 168  - Cost: 1.31     Valid accuracy: 0.779   \n",
      "Epoch: 169  - Cost: 1.3      Valid accuracy: 0.78    \n",
      "Epoch: 170  - Cost: 1.3      Valid accuracy: 0.78    \n",
      "Epoch: 171  - Cost: 1.3      Valid accuracy: 0.781   \n",
      "Epoch: 172  - Cost: 1.29     Valid accuracy: 0.781   \n",
      "Epoch: 173  - Cost: 1.29     Valid accuracy: 0.782   \n",
      "Epoch: 174  - Cost: 1.28     Valid accuracy: 0.782   \n",
      "Epoch: 175  - Cost: 1.28     Valid accuracy: 0.783   \n",
      "Epoch: 176  - Cost: 1.28     Valid accuracy: 0.783   \n",
      "Epoch: 177  - Cost: 1.27     Valid accuracy: 0.784   \n",
      "Epoch: 178  - Cost: 1.27     Valid accuracy: 0.784   \n",
      "Epoch: 179  - Cost: 1.27     Valid accuracy: 0.785   \n",
      "Epoch: 180  - Cost: 1.26     Valid accuracy: 0.785   \n",
      "Epoch: 181  - Cost: 1.26     Valid accuracy: 0.786   \n",
      "Epoch: 182  - Cost: 1.26     Valid accuracy: 0.786   \n",
      "Epoch: 183  - Cost: 1.25     Valid accuracy: 0.786   \n",
      "Epoch: 184  - Cost: 1.25     Valid accuracy: 0.786   \n",
      "Epoch: 185  - Cost: 1.24     Valid accuracy: 0.786   \n",
      "Epoch: 186  - Cost: 1.24     Valid accuracy: 0.787   \n",
      "Epoch: 187  - Cost: 1.24     Valid accuracy: 0.787   \n",
      "Epoch: 188  - Cost: 1.23     Valid accuracy: 0.788   \n",
      "Epoch: 189  - Cost: 1.23     Valid accuracy: 0.788   \n",
      "Epoch: 190  - Cost: 1.23     Valid accuracy: 0.788   \n",
      "Epoch: 191  - Cost: 1.22     Valid accuracy: 0.789   \n",
      "Epoch: 192  - Cost: 1.22     Valid accuracy: 0.79    \n",
      "Epoch: 193  - Cost: 1.22     Valid accuracy: 0.791   \n",
      "Epoch: 194  - Cost: 1.22     Valid accuracy: 0.791   \n",
      "Epoch: 195  - Cost: 1.21     Valid accuracy: 0.791   \n",
      "Epoch: 196  - Cost: 1.21     Valid accuracy: 0.792   \n",
      "Epoch: 197  - Cost: 1.21     Valid accuracy: 0.793   \n",
      "Epoch: 198  - Cost: 1.2      Valid accuracy: 0.793   \n",
      "Epoch: 199  - Cost: 1.2      Valid accuracy: 0.794   \n",
      "Test Accuracy: 0.7976999878883362\n"
     ]
    }
   ],
   "source": [
    "# Set batch size\n",
    "batch_size = 128\n",
    "epochs = 200\n",
    "learning_rate = 0.01\n",
    "assert batch_size is not None, 'You must set the batch size.'\n",
    "\n",
    "with tf.Session() as sess:\n",
    "    sess.run(tf.global_variables_initializer())\n",
    "    for epoch_i in range(epochs):\n",
    "        for batch_features, batch_labels in batches(batch_size, train_features, train_labels):\n",
    "            sess.run(optimizer, feed_dict={features:batch_features, labels:batch_labels})\n",
    "        print_epoch_stats(epoch_i, sess, batch_features, batch_labels)\n",
    "\n",
    "    test_accuracy = sess.run(accuracy, feed_dict={features:test_features, labels:test_labels})\n",
    "print('Test Accuracy: {}'.format(test_accuracy))"
   ]
  },
  {
   "cell_type": "code",
   "execution_count": null,
   "metadata": {
    "collapsed": true
   },
   "outputs": [],
   "source": []
  },
  {
   "cell_type": "code",
   "execution_count": null,
   "metadata": {
    "collapsed": true
   },
   "outputs": [],
   "source": []
  }
 ],
 "metadata": {
  "kernelspec": {
   "display_name": "Python 3",
   "language": "python",
   "name": "python3"
  },
  "language_info": {
   "codemirror_mode": {
    "name": "ipython",
    "version": 3
   },
   "file_extension": ".py",
   "mimetype": "text/x-python",
   "name": "python",
   "nbconvert_exporter": "python",
   "pygments_lexer": "ipython3",
   "version": "3.6.1"
  }
 },
 "nbformat": 4,
 "nbformat_minor": 2
}
