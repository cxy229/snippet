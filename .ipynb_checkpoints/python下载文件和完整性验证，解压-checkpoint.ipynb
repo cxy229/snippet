{
 "cells": [
  {
   "cell_type": "code",
   "execution_count": 6,
   "metadata": {
    "collapsed": true
   },
   "outputs": [],
   "source": [
    "from urllib.request import urlretrieve\n",
    "import os\n",
    "import hashlib"
   ]
  },
  {
   "cell_type": "code",
   "execution_count": 8,
   "metadata": {},
   "outputs": [
    {
     "name": "stdout",
     "output_type": "stream",
     "text": [
      "All files downloaded.\n"
     ]
    }
   ],
   "source": [
    "def download(url, file):\n",
    "    \"\"\"\n",
    "    Download file from <url>\n",
    "    :param url: URL to file\n",
    "    :param file: Local file path\n",
    "    \"\"\"\n",
    "    if not os.path.isfile(file):\n",
    "        print('Downloading ' + file + '...')\n",
    "        urlretrieve(url, file)\n",
    "        print('Download Finished')\n",
    "\n",
    "# Download the training and test dataset.\n",
    "# download('https://s3.amazonaws.com/udacity-sdc/notMNIST_train.zip', 'notMNIST_train.zip')\n",
    "download('https://s3.amazonaws.com/udacity-sdc/notMNIST_test.zip', './data/notMNIST_test.zip')\n",
    "\n",
    "# Make sure the files aren't corrupted\n",
    "# assert hashlib.md5(open('notMNIST_train.zip', 'rb').read()).hexdigest() == 'c8673b3f28f489e9cdf3a3d74e2ac8fa',\\\n",
    "#         'notMNIST_train.zip file is corrupted.  Remove the file and try again.'\n",
    "assert hashlib.md5(open('./data/notMNIST_test.zip', 'rb').read()).hexdigest() == '5d3c7e653e63471c88df796156a9dfa9',\\\n",
    "        'notMNIST_test.zip file is corrupted.  Remove the file and try again.'\n",
    "\n",
    "# Wait until you see that all files have been downloaded.\n",
    "print('All files downloaded.')"
   ]
  },
  {
   "cell_type": "code",
   "execution_count": 14,
   "metadata": {
    "collapsed": true
   },
   "outputs": [],
   "source": [
    "from tqdm import tqdm\n",
    "from zipfile import ZipFile\n",
    "from PIL import Image\n",
    "import numpy as np"
   ]
  },
  {
   "cell_type": "code",
   "execution_count": 15,
   "metadata": {},
   "outputs": [
    {
     "name": "stderr",
     "output_type": "stream",
     "text": [
      "\n",
      "\n",
      "  0%|          | 0/10001 [00:00<?, ?files/s]\u001b[A\u001b[A\n",
      "\n",
      "  3%|▎         | 328/10001 [00:00<00:02, 3279.18files/s]\u001b[A\u001b[A\n",
      "\n",
      "  6%|▋         | 629/10001 [00:00<00:02, 3191.21files/s]\u001b[A\u001b[A\n",
      "\n",
      "  9%|▉         | 947/10001 [00:00<00:02, 3185.41files/s]\u001b[A\n",
      " 13%|█▎        | 1255/10001 [00:00<00:02, 3109.22files/s]\u001b[A\n",
      " 16%|█▌        | 1567/10001 [00:00<00:02, 3089.40files/s]\u001b[A\n",
      " 19%|█▉        | 1877/10001 [00:00<00:02, 3073.45files/s]\u001b[A\n",
      " 22%|██▏       | 2163/10001 [00:00<00:02, 2987.16files/s]\u001b[A\n",
      " 25%|██▍       | 2455/10001 [00:00<00:02, 2951.77files/s]\u001b[A\n",
      " 27%|██▋       | 2741/10001 [00:00<00:02, 2921.43files/s]\u001b[A\n",
      " 30%|███       | 3045/10001 [00:01<00:02, 2954.26files/s]\u001b[A\n",
      " 33%|███▎      | 3347/10001 [00:01<00:02, 2971.33files/s]\u001b[A\n",
      " 36%|███▋      | 3639/10001 [00:01<00:02, 2954.74files/s]\u001b[A\n",
      " 40%|███▉      | 3951/10001 [00:01<00:02, 2970.70files/s]\u001b[A\n",
      " 42%|████▏     | 4248/10001 [00:01<00:01, 2970.04files/s]\u001b[A\n",
      " 45%|████▌     | 4543/10001 [00:01<00:01, 2924.03files/s]\u001b[A\n",
      " 49%|████▊     | 4855/10001 [00:01<00:01, 2954.90files/s]\u001b[A\n",
      " 52%|█████▏    | 5155/10001 [00:01<00:01, 2963.15files/s]\u001b[A\n",
      " 55%|█████▍    | 5461/10001 [00:01<00:01, 2961.57files/s]\u001b[A\n",
      " 58%|█████▊    | 5764/10001 [00:01<00:01, 2981.51files/s]\u001b[A\n",
      " 61%|██████    | 6084/10001 [00:02<00:01, 3012.06files/s]\u001b[A\n",
      " 64%|██████▍   | 6395/10001 [00:02<00:01, 3038.28files/s]\u001b[A\n",
      " 67%|██████▋   | 6706/10001 [00:02<00:01, 3031.07files/s]\u001b[A\n",
      " 70%|███████   | 7027/10001 [00:02<00:00, 3053.45files/s]\u001b[A\n",
      " 73%|███████▎  | 7336/10001 [00:02<00:00, 3061.51files/s]\u001b[A\n",
      " 77%|███████▋  | 7658/10001 [00:02<00:00, 3077.55files/s]\u001b[A\n",
      " 80%|███████▉  | 7972/10001 [00:02<00:00, 3088.04files/s]\u001b[A\n",
      " 83%|████████▎ | 8295/10001 [00:02<00:00, 3101.06files/s]\u001b[A\n",
      " 86%|████████▌ | 8606/10001 [00:02<00:00, 3099.33files/s]\u001b[A\n",
      " 89%|████████▉ | 8916/10001 [00:02<00:00, 3022.02files/s]\u001b[A\n",
      " 92%|█████████▏| 9224/10001 [00:03<00:00, 3039.10files/s]\u001b[A\n",
      " 95%|█████████▌| 9532/10001 [00:03<00:00, 3048.65files/s]\u001b[A\n",
      " 98%|█████████▊| 9838/10001 [00:03<00:00, 2986.60files/s]\u001b[A\n",
      "100%|██████████| 10001/10001 [00:03<00:00, 3012.44files/s]\u001b[A"
     ]
    }
   ],
   "source": [
    "def uncompress_features_labels(file):\n",
    "    \"\"\"\n",
    "    Uncompress features and labels from a zip file\n",
    "    :param file: The zip file to extract the data from\n",
    "    \"\"\"\n",
    "    features = []\n",
    "    labels = []\n",
    "\n",
    "    with ZipFile(file) as zipf:\n",
    "        # Progress Bar\n",
    "        filenames_pbar = tqdm(zipf.namelist(), unit='files')\n",
    "        \n",
    "        # Get features and labels from all files\n",
    "        for filename in filenames_pbar:\n",
    "            # Check if the file is a directory\n",
    "            if not filename.endswith('/'):\n",
    "                with zipf.open(filename) as image_file:\n",
    "                    image = Image.open(image_file)\n",
    "                    image.load()\n",
    "                    # Load image data as 1 dimensional array\n",
    "                    # We're using float32 to save on memory space\n",
    "                    feature = np.array(image, dtype=np.float32).flatten()\n",
    "\n",
    "                # Get the the letter from the filename.  This is the letter of the image.\n",
    "                label = os.path.split(filename)[1][0]\n",
    "\n",
    "                features.append(feature)\n",
    "                labels.append(label)\n",
    "    return np.array(features), np.array(labels)\n",
    "\n",
    "test_features, test_labels = uncompress_features_labels('./data/notMNIST_test.zip')"
   ]
  },
  {
   "cell_type": "code",
   "execution_count": 16,
   "metadata": {},
   "outputs": [
    {
     "data": {
      "text/plain": [
       "(10000, 784)"
      ]
     },
     "execution_count": 16,
     "metadata": {},
     "output_type": "execute_result"
    }
   ],
   "source": [
    "test_features.shape"
   ]
  },
  {
   "cell_type": "code",
   "execution_count": null,
   "metadata": {
    "collapsed": true
   },
   "outputs": [],
   "source": []
  }
 ],
 "metadata": {
  "kernelspec": {
   "display_name": "Python 3",
   "language": "python",
   "name": "python3"
  },
  "language_info": {
   "codemirror_mode": {
    "name": "ipython",
    "version": 3
   },
   "file_extension": ".py",
   "mimetype": "text/x-python",
   "name": "python",
   "nbconvert_exporter": "python",
   "pygments_lexer": "ipython3",
   "version": "3.6.1"
  }
 },
 "nbformat": 4,
 "nbformat_minor": 2
}
