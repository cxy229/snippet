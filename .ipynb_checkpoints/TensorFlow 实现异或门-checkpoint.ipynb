{
 "cells": [
  {
   "cell_type": "code",
   "execution_count": 15,
   "metadata": {
    "collapsed": true
   },
   "outputs": [],
   "source": [
    "#要实现的神经网络结构(架构画错了，输出层应有两个节点)\n",
    "#<img src='./assets/2017-11-16-002.jpeg' width=500pt>"
   ]
  },
  {
   "cell_type": "code",
   "execution_count": 1,
   "metadata": {
    "collapsed": true
   },
   "outputs": [],
   "source": [
    "import tensorflow as tf"
   ]
  },
  {
   "cell_type": "code",
   "execution_count": 2,
   "metadata": {
    "collapsed": true
   },
   "outputs": [],
   "source": [
    "def make_data(nums):\n",
    "    features = []\n",
    "    labels = []\n",
    "    metadata = [\n",
    "        [\n",
    "            [0,0],\n",
    "            [1,0],\n",
    "            [0,1],\n",
    "            [1,1]\n",
    "        ],\n",
    "        [\n",
    "            [1,0],\n",
    "            [0,1],\n",
    "            [0,1],\n",
    "            [1,0]\n",
    "        ]\n",
    "    ]\n",
    "    for i in range(nums):\n",
    "        features.extend(metadata[0])\n",
    "        labels.extend(metadata[1])\n",
    "    return [features, labels]"
   ]
  },
  {
   "cell_type": "code",
   "execution_count": 3,
   "metadata": {},
   "outputs": [],
   "source": [
    "train_features_data, train_labels_data = make_data(2000)\n",
    "test_features_data, test_labels_data = make_data(100)\n",
    "valid_features_data, valid_labels_data = make_data(100)"
   ]
  },
  {
   "cell_type": "code",
   "execution_count": 4,
   "metadata": {
    "collapsed": true
   },
   "outputs": [],
   "source": [
    "n_features = 2\n",
    "n_hidden_layer = 16\n",
    "n_labels = 2\n",
    "learning_rate = 0.001\n",
    "epochs = 1000"
   ]
  },
  {
   "cell_type": "code",
   "execution_count": 5,
   "metadata": {
    "collapsed": true
   },
   "outputs": [],
   "source": [
    "features = tf.placeholder(dtype=tf.float32, shape=[None, n_features])\n",
    "labels = tf.placeholder(dtype=tf.float32, shape = [None, n_labels])"
   ]
  },
  {
   "cell_type": "code",
   "execution_count": 6,
   "metadata": {
    "collapsed": true
   },
   "outputs": [],
   "source": [
    "weights = {\n",
    "    'hidden_layer': tf.Variable(tf.truncated_normal(shape=[n_features, n_hidden_layer])),\n",
    "    'out_layer': tf.Variable(tf.truncated_normal(shape=[n_hidden_layer, n_labels]))\n",
    "}\n",
    "bias = {\n",
    "    'hidden_layer': tf.Variable(tf.zeros(shape=[n_hidden_layer])),\n",
    "    'out_layer': tf.Variable(tf.zeros(shape=[n_labels]))\n",
    "}"
   ]
  },
  {
   "cell_type": "code",
   "execution_count": 7,
   "metadata": {},
   "outputs": [],
   "source": [
    "hidden_layer_input = tf.add(tf.matmul(features, weights['hidden_layer']), bias['hidden_layer'])\n",
    "hidden_layer_output = tf.nn.relu(hidden_layer_input)\n",
    "\n",
    "logits = tf.add(tf.matmul(hidden_layer_output, weights['out_layer']), bias['out_layer'])"
   ]
  },
  {
   "cell_type": "code",
   "execution_count": 13,
   "metadata": {},
   "outputs": [],
   "source": [
    "cost = tf.reduce_mean(tf.nn.softmax_cross_entropy_with_logits(logits=logits, labels = labels))\n",
    "optimizer = tf.train.AdamOptimizer(learning_rate=learning_rate).minimize(cost)"
   ]
  },
  {
   "cell_type": "code",
   "execution_count": 9,
   "metadata": {
    "collapsed": true
   },
   "outputs": [],
   "source": [
    "correct_prediction = tf.equal(tf.argmax(logits, 1), tf.argmax(labels, 1))\n",
    "accuracy = tf.reduce_mean(tf.cast(correct_prediction, tf.float32))"
   ]
  },
  {
   "cell_type": "code",
   "execution_count": 10,
   "metadata": {
    "collapsed": true
   },
   "outputs": [],
   "source": [
    "def print_ecoph_stats(epochh_i, sess, last_batch_features, last_batch_labels):\n",
    "    current_cost = sess.run(cost, feed_dict={features: last_batch_features, labels: last_batch_labels})\n",
    "    current_accuracy = sess.run(accuracy, feed_dict={features: valid_features_data, labels: valid_labels_data})\n",
    "    \n",
    "    print('Epoch: {:<4} - Cost: {:<8.3} Valid accuracy: {:<8.3}'.format(epoch_i, current_cost, current_accuracy))"
   ]
  },
  {
   "cell_type": "code",
   "execution_count": 14,
   "metadata": {
    "scrolled": false
   },
   "outputs": [
    {
     "name": "stdout",
     "output_type": "stream",
     "text": [
      "Epoch: 0    - Cost: 1.58     Valid accuracy: 0.75    \n",
      "Epoch: 50   - Cost: 0.993    Valid accuracy: 0.75    \n",
      "Epoch: 100  - Cost: 0.576    Valid accuracy: 0.75    \n",
      "Epoch: 150  - Cost: 0.382    Valid accuracy: 1.0     \n",
      "Epoch: 200  - Cost: 0.288    Valid accuracy: 1.0     \n",
      "Epoch: 250  - Cost: 0.229    Valid accuracy: 1.0     \n",
      "Epoch: 300  - Cost: 0.19     Valid accuracy: 1.0     \n",
      "Epoch: 350  - Cost: 0.16     Valid accuracy: 1.0     \n",
      "Epoch: 400  - Cost: 0.138    Valid accuracy: 1.0     \n",
      "Epoch: 450  - Cost: 0.12     Valid accuracy: 1.0     \n",
      "Epoch: 500  - Cost: 0.105    Valid accuracy: 1.0     \n",
      "Epoch: 550  - Cost: 0.0925   Valid accuracy: 1.0     \n",
      "Epoch: 600  - Cost: 0.0821   Valid accuracy: 1.0     \n",
      "Epoch: 650  - Cost: 0.0731   Valid accuracy: 1.0     \n",
      "Epoch: 700  - Cost: 0.0654   Valid accuracy: 1.0     \n",
      "Epoch: 750  - Cost: 0.0587   Valid accuracy: 1.0     \n",
      "Epoch: 800  - Cost: 0.0528   Valid accuracy: 1.0     \n",
      "Epoch: 850  - Cost: 0.0476   Valid accuracy: 1.0     \n",
      "Epoch: 900  - Cost: 0.0431   Valid accuracy: 1.0     \n",
      "Epoch: 950  - Cost: 0.0391   Valid accuracy: 1.0     \n",
      "Accuracy: 1.0\n"
     ]
    }
   ],
   "source": [
    "with tf.Session() as sess:\n",
    "    sess.run(tf.global_variables_initializer())\n",
    "    for epoch_i in range(epochs):\n",
    "        sess.run(optimizer, feed_dict={features: train_features_data, labels: train_labels_data})\n",
    "        if epoch_i%50==0:\n",
    "            print_ecoph_stats(epoch_i, sess, train_features_data, train_labels_data)\n",
    "#             print(sess.run(weights))\n",
    "#             print(sess.run(bias))\n",
    "    final_accuracy = sess.run(accuracy, feed_dict={features: valid_features_data, labels: valid_labels_data})\n",
    "print(\"Accuracy: {:.3}\".format(final_accuracy))"
   ]
  },
  {
   "cell_type": "code",
   "execution_count": null,
   "metadata": {
    "collapsed": true
   },
   "outputs": [],
   "source": []
  },
  {
   "cell_type": "code",
   "execution_count": null,
   "metadata": {
    "collapsed": true
   },
   "outputs": [],
   "source": []
  },
  {
   "cell_type": "code",
   "execution_count": null,
   "metadata": {
    "collapsed": true
   },
   "outputs": [],
   "source": []
  }
 ],
 "metadata": {
  "kernelspec": {
   "display_name": "Python 3",
   "language": "python",
   "name": "python3"
  },
  "language_info": {
   "codemirror_mode": {
    "name": "ipython",
    "version": 3
   },
   "file_extension": ".py",
   "mimetype": "text/x-python",
   "name": "python",
   "nbconvert_exporter": "python",
   "pygments_lexer": "ipython3",
   "version": "3.6.1"
  }
 },
 "nbformat": 4,
 "nbformat_minor": 2
}
