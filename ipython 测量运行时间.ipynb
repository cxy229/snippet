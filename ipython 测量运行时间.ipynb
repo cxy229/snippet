{
 "cells": [
  {
   "cell_type": "code",
   "execution_count": 26,
   "metadata": {},
   "outputs": [
    {
     "name": "stdout",
     "output_type": "stream",
     "text": [
      "CPU times: user 732 ms, sys: 0 ns, total: 732 ms\n",
      "Wall time: 746 ms\n"
     ]
    }
   ],
   "source": [
    "%%time\n",
    "#测量一个cell的运行时间\n",
    "sum(range(10000000))\n",
    "sum(range(10000000))"
   ]
  },
  {
   "cell_type": "code",
   "execution_count": 25,
   "metadata": {},
   "outputs": [
    {
     "name": "stdout",
     "output_type": "stream",
     "text": [
      "CPU times: user 364 ms, sys: 0 ns, total: 364 ms\n",
      "Wall time: 370 ms\n"
     ]
    },
    {
     "data": {
      "text/plain": [
       "49999995000000"
      ]
     },
     "execution_count": 25,
     "metadata": {},
     "output_type": "execute_result"
    }
   ],
   "source": [
    "%time sum(range(10000000))\n",
    "#测量一行代码的运行时间"
   ]
  },
  {
   "cell_type": "code",
   "execution_count": null,
   "metadata": {
    "collapsed": true
   },
   "outputs": [],
   "source": []
  },
  {
   "cell_type": "raw",
   "metadata": {},
   "source": [
    "http://ipython.readthedocs.io/en/stable/interactive/magics.html#magic-time\n",
    "\n",
    "%time\n",
    "Time execution of a Python statement or expression.\n",
    "\n",
    "The CPU and wall clock times are printed, and the value of the expression (if any) is returned. Note that under Win32, system time is always reported as 0, since it can not be measured.\n",
    "\n",
    "This function can be used both as a line and cell magic:\n",
    "\n",
    "In line mode you can time a single-line statement (though multiple ones can be chained with using semicolons).\n",
    "In cell mode, you can time the cell body (a directly following statement raises an error).\n",
    "This function provides very basic timing functionality. Use the timeit magic for more control over the measurement.\n",
    "\n",
    "Examples\n",
    "\n",
    "In [1]: %time 2**128\n",
    "CPU times: user 0.00 s, sys: 0.00 s, total: 0.00 s\n",
    "Wall time: 0.00\n",
    "Out[1]: 340282366920938463463374607431768211456L\n",
    "\n",
    "In [2]: n = 1000000\n",
    "\n",
    "In [3]: %time sum(range(n))\n",
    "CPU times: user 1.20 s, sys: 0.05 s, total: 1.25 s\n",
    "Wall time: 1.37\n",
    "Out[3]: 499999500000L\n",
    "\n",
    "In [4]: %time print 'hello world'\n",
    "hello world\n",
    "CPU times: user 0.00 s, sys: 0.00 s, total: 0.00 s\n",
    "Wall time: 0.00\n",
    "\n",
    "Note that the time needed by Python to compile the given expression\n",
    "will be reported if it is more than 0.1s.  In this example, the\n",
    "actual exponentiation is done by Python at compilation time, so while\n",
    "the expression can take a noticeable amount of time to compute, that\n",
    "time is purely due to the compilation:\n",
    "\n",
    "In [5]: %time 3**9999;\n",
    "CPU times: user 0.00 s, sys: 0.00 s, total: 0.00 s\n",
    "Wall time: 0.00 s\n",
    "\n",
    "In [6]: %time 3**999999;\n",
    "CPU times: user 0.00 s, sys: 0.00 s, total: 0.00 s\n",
    "Wall time: 0.00 s\n",
    "Compiler : 0.78 s\n",
    "%timeit\n",
    "Time execution of a Python statement or expression\n",
    "\n",
    "Usage, in line mode:\n",
    "%timeit [-n<N> -r<R> [-t|-c] -q -p<P> -o] statement\n",
    "or in cell mode:\n",
    "%%timeit [-n<N> -r<R> [-t|-c] -q -p<P> -o] setup_code code code...\n",
    "Time execution of a Python statement or expression using the timeit module. This function can be used both as a line and cell magic:\n",
    "\n",
    "In line mode you can time a single-line statement (though multiple ones can be chained with using semicolons).\n",
    "In cell mode, the statement in the first line is used as setup code (executed but not timed) and the body of the cell is timed. The cell body has access to any variables created in the setup code.\n",
    "Options: -n<N>: execute the given statement <N> times in a loop. If this value is not given, a fitting value is chosen.\n",
    "\n",
    "-r<R>: repeat the loop iteration <R> times and take the best result. Default: 3\n",
    "\n",
    "-t: use time.time to measure the time, which is the default on Unix. This function measures wall time.\n",
    "\n",
    "-c: use time.clock to measure the time, which is the default on Windows and measures wall time. On Unix, resource.getrusage is used instead and returns the CPU user time.\n",
    "\n",
    "-p<P>: use a precision of <P> digits to display the timing result. Default: 3\n",
    "\n",
    "-q: Quiet, do not print result.\n",
    "\n",
    "-o: return a TimeitResult that can be stored in a variable to inspect\n",
    "the result in more details.\n",
    "Examples\n",
    "\n",
    "In [1]: %timeit pass\n",
    "8.26 ns ± 0.12 ns per loop (mean ± std. dev. of 7 runs, 100000000 loops each)\n",
    "\n",
    "In [2]: u = None\n",
    "\n",
    "In [3]: %timeit u is None\n",
    "29.9 ns ± 0.643 ns per loop (mean ± std. dev. of 7 runs, 10000000 loops each)\n",
    "\n",
    "In [4]: %timeit -r 4 u == None\n",
    "\n",
    "In [5]: import time\n",
    "\n",
    "In [6]: %timeit -n1 time.sleep(2)\n",
    "The times reported by %timeit will be slightly higher than those reported by the timeit.py script when variables are accessed. This is due to the fact that %timeit executes the statement in the namespace of the shell, compared with timeit.py, which uses a single setup statement to import function or create variables. Generally, the bias does not matter as long as results from timeit.py are not mixed with those from %timeit.\n",
    "\n"
   ]
  },
  {
   "cell_type": "code",
   "execution_count": null,
   "metadata": {
    "collapsed": true
   },
   "outputs": [],
   "source": []
  }
 ],
 "metadata": {
  "kernelspec": {
   "display_name": "Python 3",
   "language": "python",
   "name": "python3"
  },
  "language_info": {
   "codemirror_mode": {
    "name": "ipython",
    "version": 3
   },
   "file_extension": ".py",
   "mimetype": "text/x-python",
   "name": "python",
   "nbconvert_exporter": "python",
   "pygments_lexer": "ipython3",
   "version": "3.6.1"
  }
 },
 "nbformat": 4,
 "nbformat_minor": 2
}
